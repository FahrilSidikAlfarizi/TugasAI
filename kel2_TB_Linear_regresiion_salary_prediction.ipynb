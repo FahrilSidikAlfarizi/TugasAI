{
  "cells": [
    {
      "cell_type": "code",
      "execution_count": 1,
      "id": "4163a1a1",
      "metadata": {
        "execution": {
          "iopub.execute_input": "2023-06-05T05:06:44.911990Z",
          "iopub.status.busy": "2023-06-05T05:06:44.911609Z",
          "iopub.status.idle": "2023-06-05T05:06:46.369517Z",
          "shell.execute_reply": "2023-06-05T05:06:46.367952Z"
        },
        "papermill": {
          "duration": 1.465431,
          "end_time": "2023-06-05T05:06:46.371966",
          "exception": false,
          "start_time": "2023-06-05T05:06:44.906535",
          "status": "completed"
        },
        "tags": [],
        "id": "4163a1a1"
      },
      "outputs": [],
      "source": [
        "import pandas as pd\n",
        "import numpy as np\n",
        "import matplotlib.pyplot as plt\n",
        "import seaborn as sns"
      ]
    },
    {
      "cell_type": "code",
      "execution_count": 3,
      "id": "b8a90a97",
      "metadata": {
        "execution": {
          "iopub.execute_input": "2023-06-05T05:06:46.381795Z",
          "iopub.status.busy": "2023-06-05T05:06:46.381408Z",
          "iopub.status.idle": "2023-06-05T05:06:46.430603Z",
          "shell.execute_reply": "2023-06-05T05:06:46.429477Z"
        },
        "papermill": {
          "duration": 0.05648,
          "end_time": "2023-06-05T05:06:46.432549",
          "exception": false,
          "start_time": "2023-06-05T05:06:46.376069",
          "status": "completed"
        },
        "tags": [],
        "colab": {
          "base_uri": "https://localhost:8080/"
        },
        "id": "b8a90a97",
        "outputId": "bb812749-5286-46a4-cff7-1eec8ce8db7a"
      },
      "outputs": [
        {
          "output_type": "stream",
          "name": "stdout",
          "text": [
            "<class 'pandas.core.frame.DataFrame'>\n",
            "RangeIndex: 30 entries, 0 to 29\n",
            "Data columns (total 2 columns):\n",
            " #   Column           Non-Null Count  Dtype  \n",
            "---  ------           --------------  -----  \n",
            " 0   YearsExperience  30 non-null     float64\n",
            " 1   Salary           30 non-null     float64\n",
            "dtypes: float64(2)\n",
            "memory usage: 608.0 bytes\n"
          ]
        }
      ],
      "source": [
        "df=pd.read_csv(\"/content/Salary Data.csv\")\n",
        "df.info()"
      ]
    },
    {
      "cell_type": "code",
      "execution_count": null,
      "id": "d670a5f2",
      "metadata": {
        "execution": {
          "iopub.execute_input": "2023-06-05T05:06:46.442574Z",
          "iopub.status.busy": "2023-06-05T05:06:46.441968Z",
          "iopub.status.idle": "2023-06-05T05:06:46.468118Z",
          "shell.execute_reply": "2023-06-05T05:06:46.466981Z"
        },
        "papermill": {
          "duration": 0.033417,
          "end_time": "2023-06-05T05:06:46.469968",
          "exception": false,
          "start_time": "2023-06-05T05:06:46.436551",
          "status": "completed"
        },
        "tags": [],
        "colab": {
          "base_uri": "https://localhost:8080/",
          "height": 225
        },
        "id": "d670a5f2",
        "outputId": "a1fae25c-6dd7-4bf2-e8b0-d164ce10faaa"
      },
      "outputs": [
        {
          "output_type": "stream",
          "name": "stdout",
          "text": [
            "(30, 2)\n"
          ]
        },
        {
          "output_type": "execute_result",
          "data": {
            "text/plain": [
              "   YearsExperience   Salary\n",
              "0              1.1  39343.0\n",
              "1              1.3  46205.0\n",
              "2              1.5  37731.0\n",
              "3              2.0  43525.0\n",
              "4              2.2  39891.0"
            ],
            "text/html": [
              "\n",
              "  <div id=\"df-e60c7f6a-4413-413c-9acc-662e590eaa86\">\n",
              "    <div class=\"colab-df-container\">\n",
              "      <div>\n",
              "<style scoped>\n",
              "    .dataframe tbody tr th:only-of-type {\n",
              "        vertical-align: middle;\n",
              "    }\n",
              "\n",
              "    .dataframe tbody tr th {\n",
              "        vertical-align: top;\n",
              "    }\n",
              "\n",
              "    .dataframe thead th {\n",
              "        text-align: right;\n",
              "    }\n",
              "</style>\n",
              "<table border=\"1\" class=\"dataframe\">\n",
              "  <thead>\n",
              "    <tr style=\"text-align: right;\">\n",
              "      <th></th>\n",
              "      <th>YearsExperience</th>\n",
              "      <th>Salary</th>\n",
              "    </tr>\n",
              "  </thead>\n",
              "  <tbody>\n",
              "    <tr>\n",
              "      <th>0</th>\n",
              "      <td>1.1</td>\n",
              "      <td>39343.0</td>\n",
              "    </tr>\n",
              "    <tr>\n",
              "      <th>1</th>\n",
              "      <td>1.3</td>\n",
              "      <td>46205.0</td>\n",
              "    </tr>\n",
              "    <tr>\n",
              "      <th>2</th>\n",
              "      <td>1.5</td>\n",
              "      <td>37731.0</td>\n",
              "    </tr>\n",
              "    <tr>\n",
              "      <th>3</th>\n",
              "      <td>2.0</td>\n",
              "      <td>43525.0</td>\n",
              "    </tr>\n",
              "    <tr>\n",
              "      <th>4</th>\n",
              "      <td>2.2</td>\n",
              "      <td>39891.0</td>\n",
              "    </tr>\n",
              "  </tbody>\n",
              "</table>\n",
              "</div>\n",
              "      <button class=\"colab-df-convert\" onclick=\"convertToInteractive('df-e60c7f6a-4413-413c-9acc-662e590eaa86')\"\n",
              "              title=\"Convert this dataframe to an interactive table.\"\n",
              "              style=\"display:none;\">\n",
              "        \n",
              "  <svg xmlns=\"http://www.w3.org/2000/svg\" height=\"24px\"viewBox=\"0 0 24 24\"\n",
              "       width=\"24px\">\n",
              "    <path d=\"M0 0h24v24H0V0z\" fill=\"none\"/>\n",
              "    <path d=\"M18.56 5.44l.94 2.06.94-2.06 2.06-.94-2.06-.94-.94-2.06-.94 2.06-2.06.94zm-11 1L8.5 8.5l.94-2.06 2.06-.94-2.06-.94L8.5 2.5l-.94 2.06-2.06.94zm10 10l.94 2.06.94-2.06 2.06-.94-2.06-.94-.94-2.06-.94 2.06-2.06.94z\"/><path d=\"M17.41 7.96l-1.37-1.37c-.4-.4-.92-.59-1.43-.59-.52 0-1.04.2-1.43.59L10.3 9.45l-7.72 7.72c-.78.78-.78 2.05 0 2.83L4 21.41c.39.39.9.59 1.41.59.51 0 1.02-.2 1.41-.59l7.78-7.78 2.81-2.81c.8-.78.8-2.07 0-2.86zM5.41 20L4 18.59l7.72-7.72 1.47 1.35L5.41 20z\"/>\n",
              "  </svg>\n",
              "      </button>\n",
              "      \n",
              "  <style>\n",
              "    .colab-df-container {\n",
              "      display:flex;\n",
              "      flex-wrap:wrap;\n",
              "      gap: 12px;\n",
              "    }\n",
              "\n",
              "    .colab-df-convert {\n",
              "      background-color: #E8F0FE;\n",
              "      border: none;\n",
              "      border-radius: 50%;\n",
              "      cursor: pointer;\n",
              "      display: none;\n",
              "      fill: #1967D2;\n",
              "      height: 32px;\n",
              "      padding: 0 0 0 0;\n",
              "      width: 32px;\n",
              "    }\n",
              "\n",
              "    .colab-df-convert:hover {\n",
              "      background-color: #E2EBFA;\n",
              "      box-shadow: 0px 1px 2px rgba(60, 64, 67, 0.3), 0px 1px 3px 1px rgba(60, 64, 67, 0.15);\n",
              "      fill: #174EA6;\n",
              "    }\n",
              "\n",
              "    [theme=dark] .colab-df-convert {\n",
              "      background-color: #3B4455;\n",
              "      fill: #D2E3FC;\n",
              "    }\n",
              "\n",
              "    [theme=dark] .colab-df-convert:hover {\n",
              "      background-color: #434B5C;\n",
              "      box-shadow: 0px 1px 3px 1px rgba(0, 0, 0, 0.15);\n",
              "      filter: drop-shadow(0px 1px 2px rgba(0, 0, 0, 0.3));\n",
              "      fill: #FFFFFF;\n",
              "    }\n",
              "  </style>\n",
              "\n",
              "      <script>\n",
              "        const buttonEl =\n",
              "          document.querySelector('#df-e60c7f6a-4413-413c-9acc-662e590eaa86 button.colab-df-convert');\n",
              "        buttonEl.style.display =\n",
              "          google.colab.kernel.accessAllowed ? 'block' : 'none';\n",
              "\n",
              "        async function convertToInteractive(key) {\n",
              "          const element = document.querySelector('#df-e60c7f6a-4413-413c-9acc-662e590eaa86');\n",
              "          const dataTable =\n",
              "            await google.colab.kernel.invokeFunction('convertToInteractive',\n",
              "                                                     [key], {});\n",
              "          if (!dataTable) return;\n",
              "\n",
              "          const docLinkHtml = 'Like what you see? Visit the ' +\n",
              "            '<a target=\"_blank\" href=https://colab.research.google.com/notebooks/data_table.ipynb>data table notebook</a>'\n",
              "            + ' to learn more about interactive tables.';\n",
              "          element.innerHTML = '';\n",
              "          dataTable['output_type'] = 'display_data';\n",
              "          await google.colab.output.renderOutput(dataTable, element);\n",
              "          const docLink = document.createElement('div');\n",
              "          docLink.innerHTML = docLinkHtml;\n",
              "          element.appendChild(docLink);\n",
              "        }\n",
              "      </script>\n",
              "    </div>\n",
              "  </div>\n",
              "  "
            ]
          },
          "metadata": {},
          "execution_count": 5
        }
      ],
      "source": [
        "print(df.shape)\n",
        "df.head()"
      ]
    },
    {
      "cell_type": "code",
      "execution_count": null,
      "id": "33a77a55",
      "metadata": {
        "execution": {
          "iopub.execute_input": "2023-06-05T05:06:46.480444Z",
          "iopub.status.busy": "2023-06-05T05:06:46.479854Z",
          "iopub.status.idle": "2023-06-05T05:06:46.487438Z",
          "shell.execute_reply": "2023-06-05T05:06:46.486598Z"
        },
        "papermill": {
          "duration": 0.015853,
          "end_time": "2023-06-05T05:06:46.490061",
          "exception": false,
          "start_time": "2023-06-05T05:06:46.474208",
          "status": "completed"
        },
        "tags": [],
        "colab": {
          "base_uri": "https://localhost:8080/"
        },
        "id": "33a77a55",
        "outputId": "6c5a6e9c-e95f-4dab-95d4-93dd1b9713ea"
      },
      "outputs": [
        {
          "output_type": "stream",
          "name": "stdout",
          "text": [
            "Index(['YearsExperience', 'Salary'], dtype='object')\n",
            "RangeIndex(start=0, stop=30, step=1)\n"
          ]
        },
        {
          "output_type": "execute_result",
          "data": {
            "text/plain": [
              "YearsExperience    float64\n",
              "Salary             float64\n",
              "dtype: object"
            ]
          },
          "metadata": {},
          "execution_count": 6
        }
      ],
      "source": [
        "print(df.columns)\n",
        "print(df.index)\n",
        "df.dtypes\n"
      ]
    },
    {
      "cell_type": "code",
      "execution_count": null,
      "id": "50384479",
      "metadata": {
        "execution": {
          "iopub.execute_input": "2023-06-05T05:06:46.501004Z",
          "iopub.status.busy": "2023-06-05T05:06:46.500651Z",
          "iopub.status.idle": "2023-06-05T05:06:47.449399Z",
          "shell.execute_reply": "2023-06-05T05:06:47.447931Z"
        },
        "papermill": {
          "duration": 0.957104,
          "end_time": "2023-06-05T05:06:47.451835",
          "exception": false,
          "start_time": "2023-06-05T05:06:46.494731",
          "status": "completed"
        },
        "tags": [],
        "colab": {
          "base_uri": "https://localhost:8080/",
          "height": 531
        },
        "id": "50384479",
        "outputId": "c5af864f-7560-4b25-b3fa-8f193e982ca9"
      },
      "outputs": [
        {
          "output_type": "display_data",
          "data": {
            "text/plain": [
              "<Figure size 3000x1500 with 0 Axes>"
            ]
          },
          "metadata": {}
        },
        {
          "output_type": "display_data",
          "data": {
            "text/plain": [
              "<Figure size 500x500 with 6 Axes>"
            ],
            "image/png": "[encoded data removed]"
          },
          "metadata": {}
        }
      ],
      "source": [
        "plt.figure(figsize=(30,15))\n",
        "sns.pairplot(df)\n",
        "plt.show()"
      ]
    },
    {
      "cell_type": "code",
      "execution_count": null,
      "id": "7a67cca8",
      "metadata": {
        "execution": {
          "iopub.execute_input": "2023-06-05T05:06:47.465332Z",
          "iopub.status.busy": "2023-06-05T05:06:47.464954Z",
          "iopub.status.idle": "2023-06-05T05:06:47.470860Z",
          "shell.execute_reply": "2023-06-05T05:06:47.469988Z"
        },
        "papermill": {
          "duration": 0.014076,
          "end_time": "2023-06-05T05:06:47.472681",
          "exception": false,
          "start_time": "2023-06-05T05:06:47.458605",
          "status": "completed"
        },
        "tags": [],
        "id": "7a67cca8"
      },
      "outputs": [],
      "source": [
        "X=df[[\"YearsExperience\"]]\n",
        "y=df[\"Salary\"]"
      ]
    },
    {
      "cell_type": "code",
      "execution_count": null,
      "id": "e6666745",
      "metadata": {
        "execution": {
          "iopub.execute_input": "2023-06-05T05:06:47.484604Z",
          "iopub.status.busy": "2023-06-05T05:06:47.483554Z",
          "iopub.status.idle": "2023-06-05T05:06:47.779379Z",
          "shell.execute_reply": "2023-06-05T05:06:47.778037Z"
        },
        "papermill": {
          "duration": 0.304646,
          "end_time": "2023-06-05T05:06:47.782199",
          "exception": false,
          "start_time": "2023-06-05T05:06:47.477553",
          "status": "completed"
        },
        "tags": [],
        "id": "e6666745"
      },
      "outputs": [],
      "source": [
        "from sklearn.model_selection import train_test_split\n",
        "X_train,X_test,y_train,y_test= train_test_split(X,y,random_state=1)"
      ]
    },
    {
      "cell_type": "code",
      "execution_count": null,
      "id": "a59e95d2",
      "metadata": {
        "execution": {
          "iopub.execute_input": "2023-06-05T05:06:47.794248Z",
          "iopub.status.busy": "2023-06-05T05:06:47.793876Z",
          "iopub.status.idle": "2023-06-05T05:06:47.800200Z",
          "shell.execute_reply": "2023-06-05T05:06:47.798752Z"
        },
        "papermill": {
          "duration": 0.015407,
          "end_time": "2023-06-05T05:06:47.803033",
          "exception": false,
          "start_time": "2023-06-05T05:06:47.787626",
          "status": "completed"
        },
        "tags": [],
        "colab": {
          "base_uri": "https://localhost:8080/"
        },
        "id": "a59e95d2",
        "outputId": "a2cd1cc8-6300-4b97-dfb4-3e349b788e8f"
      },
      "outputs": [
        {
          "output_type": "stream",
          "name": "stdout",
          "text": [
            "(22, 1)\n",
            "(22,)\n",
            "(8, 1)\n",
            "(8,)\n"
          ]
        }
      ],
      "source": [
        "print(X_train.shape)\n",
        "print(y_train.shape)\n",
        "print(X_test.shape)\n",
        "print(y_test.shape)"
      ]
    },
    {
      "cell_type": "code",
      "execution_count": null,
      "id": "766d018f",
      "metadata": {
        "execution": {
          "iopub.execute_input": "2023-06-05T05:06:47.815142Z",
          "iopub.status.busy": "2023-06-05T05:06:47.814754Z",
          "iopub.status.idle": "2023-06-05T05:06:47.953401Z",
          "shell.execute_reply": "2023-06-05T05:06:47.952360Z"
        },
        "papermill": {
          "duration": 0.147141,
          "end_time": "2023-06-05T05:06:47.955366",
          "exception": false,
          "start_time": "2023-06-05T05:06:47.808225",
          "status": "completed"
        },
        "tags": [],
        "colab": {
          "base_uri": "https://localhost:8080/",
          "height": 75
        },
        "id": "766d018f",
        "outputId": "c28b26f3-c42e-4db6-fce5-01d26c97a63f"
      },
      "outputs": [
        {
          "output_type": "execute_result",
          "data": {
            "text/plain": [
              "LinearRegression()"
            ],
            "text/html": [
              "<style>#sk-container-id-1 {color: black;background-color: white;}#sk-container-id-1 pre{padding: 0;}#sk-container-id-1 div.sk-toggleable {background-color: white;}#sk-container-id-1 label.sk-toggleable__label {cursor: pointer;display: block;width: 100%;margin-bottom: 0;padding: 0.3em;box-sizing: border-box;text-align: center;}#sk-container-id-1 label.sk-toggleable__label-arrow:before {content: \"▸\";float: left;margin-right: 0.25em;color: #696969;}#sk-container-id-1 label.sk-toggleable__label-arrow:hover:before {color: black;}#sk-container-id-1 div.sk-estimator:hover label.sk-toggleable__label-arrow:before {color: black;}#sk-container-id-1 div.sk-toggleable__content {max-height: 0;max-width: 0;overflow: hidden;text-align: left;background-color: #f0f8ff;}#sk-container-id-1 div.sk-toggleable__content pre {margin: 0.2em;color: black;border-radius: 0.25em;background-color: #f0f8ff;}#sk-container-id-1 input.sk-toggleable__control:checked~div.sk-toggleable__content {max-height: 200px;max-width: 100%;overflow: auto;}#sk-container-id-1 input.sk-toggleable__control:checked~label.sk-toggleable__label-arrow:before {content: \"▾\";}#sk-container-id-1 div.sk-estimator input.sk-toggleable__control:checked~label.sk-toggleable__label {background-color: #d4ebff;}#sk-container-id-1 div.sk-label input.sk-toggleable__control:checked~label.sk-toggleable__label {background-color: #d4ebff;}#sk-container-id-1 input.sk-hidden--visually {border: 0;clip: rect(1px 1px 1px 1px);clip: rect(1px, 1px, 1px, 1px);height: 1px;margin: -1px;overflow: hidden;padding: 0;position: absolute;width: 1px;}#sk-container-id-1 div.sk-estimator {font-family: monospace;background-color: #f0f8ff;border: 1px dotted black;border-radius: 0.25em;box-sizing: border-box;margin-bottom: 0.5em;}#sk-container-id-1 div.sk-estimator:hover {background-color: #d4ebff;}#sk-container-id-1 div.sk-parallel-item::after {content: \"\";width: 100%;border-bottom: 1px solid gray;flex-grow: 1;}#sk-container-id-1 div.sk-label:hover label.sk-toggleable__label {background-color: #d4ebff;}#sk-container-id-1 div.sk-serial::before {content: \"\";position: absolute;border-left: 1px solid gray;box-sizing: border-box;top: 0;bottom: 0;left: 50%;z-index: 0;}#sk-container-id-1 div.sk-serial {display: flex;flex-direction: column;align-items: center;background-color: white;padding-right: 0.2em;padding-left: 0.2em;position: relative;}#sk-container-id-1 div.sk-item {position: relative;z-index: 1;}#sk-container-id-1 div.sk-parallel {display: flex;align-items: stretch;justify-content: center;background-color: white;position: relative;}#sk-container-id-1 div.sk-item::before, #sk-container-id-1 div.sk-parallel-item::before {content: \"\";position: absolute;border-left: 1px solid gray;box-sizing: border-box;top: 0;bottom: 0;left: 50%;z-index: -1;}#sk-container-id-1 div.sk-parallel-item {display: flex;flex-direction: column;z-index: 1;position: relative;background-color: white;}#sk-container-id-1 div.sk-parallel-item:first-child::after {align-self: flex-end;width: 50%;}#sk-container-id-1 div.sk-parallel-item:last-child::after {align-self: flex-start;width: 50%;}#sk-container-id-1 div.sk-parallel-item:only-child::after {width: 0;}#sk-container-id-1 div.sk-dashed-wrapped {border: 1px dashed gray;margin: 0 0.4em 0.5em 0.4em;box-sizing: border-box;padding-bottom: 0.4em;background-color: white;}#sk-container-id-1 div.sk-label label {font-family: monospace;font-weight: bold;display: inline-block;line-height: 1.2em;}#sk-container-id-1 div.sk-label-container {text-align: center;}#sk-container-id-1 div.sk-container {/* jupyter's `normalize.less` sets `[hidden] { display: none; }` but bootstrap.min.css set `[hidden] { display: none !important; }` so we also need the `!important` here to be able to override the default hidden behavior on the sphinx rendered scikit-learn.org. See: https://github.com/scikit-learn/scikit-learn/issues/21755 */display: inline-block !important;position: relative;}#sk-container-id-1 div.sk-text-repr-fallback {display: none;}</style><div id=\"sk-container-id-1\" class=\"sk-top-container\"><div class=\"sk-text-repr-fallback\"><pre>LinearRegression()</pre><b>In a Jupyter environment, please rerun this cell to show the HTML representation or trust the notebook. <br />On GitHub, the HTML representation is unable to render, please try loading this page with nbviewer.org.</b></div><div class=\"sk-container\" hidden><div class=\"sk-item\"><div class=\"sk-estimator sk-toggleable\"><input class=\"sk-toggleable__control sk-hidden--visually\" id=\"sk-estimator-id-1\" type=\"checkbox\" checked><label for=\"sk-estimator-id-1\" class=\"sk-toggleable__label sk-toggleable__label-arrow\">LinearRegression</label><div class=\"sk-toggleable__content\"><pre>LinearRegression()</pre></div></div></div></div></div>"
            ]
          },
          "metadata": {},
          "execution_count": 11
        }
      ],
      "source": [
        "from sklearn.linear_model import LinearRegression\n",
        "from sklearn import metrics\n",
        "lr=LinearRegression()\n",
        "lr.fit(X_train,y_train)"
      ]
    },
    {
      "cell_type": "code",
      "execution_count": null,
      "id": "ca049d04",
      "metadata": {
        "execution": {
          "iopub.execute_input": "2023-06-05T05:06:47.967276Z",
          "iopub.status.busy": "2023-06-05T05:06:47.966910Z",
          "iopub.status.idle": "2023-06-05T05:06:47.972960Z",
          "shell.execute_reply": "2023-06-05T05:06:47.971549Z"
        },
        "papermill": {
          "duration": 0.015561,
          "end_time": "2023-06-05T05:06:47.976157",
          "exception": false,
          "start_time": "2023-06-05T05:06:47.960596",
          "status": "completed"
        },
        "tags": [],
        "colab": {
          "base_uri": "https://localhost:8080/"
        },
        "id": "ca049d04",
        "outputId": "a414c192-749b-4823-af47-150b69020c2e"
      },
      "outputs": [
        {
          "output_type": "stream",
          "name": "stdout",
          "text": [
            "intercept = 25892.305719071228\n",
            "coefficent = [9261.56845302]\n"
          ]
        }
      ],
      "source": [
        "print(\"intercept =\",lr.intercept_)\n",
        "print(\"coefficent =\",lr.coef_)"
      ]
    },
    {
      "cell_type": "code",
      "execution_count": null,
      "id": "01a3b2f1",
      "metadata": {
        "execution": {
          "iopub.execute_input": "2023-06-05T05:06:47.988521Z",
          "iopub.status.busy": "2023-06-05T05:06:47.988115Z",
          "iopub.status.idle": "2023-06-05T05:06:47.996956Z",
          "shell.execute_reply": "2023-06-05T05:06:47.995986Z"
        },
        "papermill": {
          "duration": 0.017058,
          "end_time": "2023-06-05T05:06:47.998624",
          "exception": false,
          "start_time": "2023-06-05T05:06:47.981566",
          "status": "completed"
        },
        "tags": [],
        "colab": {
          "base_uri": "https://localhost:8080/"
        },
        "id": "01a3b2f1",
        "outputId": "2ca973b3-cb79-4f59-9ea5-a3e40aa73304"
      },
      "outputs": [
        {
          "output_type": "execute_result",
          "data": {
            "text/plain": [
              "array([ 74978.61852009,  91649.44173553,  62012.42268586,  81461.7164372 ,\n",
              "        67569.36375767,  88870.97119962, 113877.20602278,  44415.44262512])"
            ]
          },
          "metadata": {},
          "execution_count": 13
        }
      ],
      "source": [
        "y_pred=lr.predict(X_test)\n",
        "y_pred"
      ]
    },
    {
      "cell_type": "code",
      "execution_count": null,
      "id": "e1e0dca5",
      "metadata": {
        "execution": {
          "iopub.execute_input": "2023-06-05T05:06:48.011132Z",
          "iopub.status.busy": "2023-06-05T05:06:48.010735Z",
          "iopub.status.idle": "2023-06-05T05:06:48.245896Z",
          "shell.execute_reply": "2023-06-05T05:06:48.244515Z"
        },
        "papermill": {
          "duration": 0.243978,
          "end_time": "2023-06-05T05:06:48.248230",
          "exception": false,
          "start_time": "2023-06-05T05:06:48.004252",
          "status": "completed"
        },
        "tags": [],
        "colab": {
          "base_uri": "https://localhost:8080/",
          "height": 472
        },
        "id": "e1e0dca5",
        "outputId": "c53d2b5e-be96-4285-ce3e-a0272fc63f90"
      },
      "outputs": [
        {
          "output_type": "display_data",
          "data": {
            "text/plain": [
              "<Figure size 640x480 with 1 Axes>"
            ],
            "image/png": "[encoded data removed]"
          },
          "metadata": {}
        }
      ],
      "source": [
        "import matplotlib.pyplot as plt\n",
        "plt.scatter(x=X_test,y=y_test)\n",
        "plt.plot(X_test,y_pred,color=\"red\",linewidth=3)\n",
        "plt.title(\"Actual sale vs Predicted sale\")\n",
        "plt.xlabel(\"Years of Exp\")\n",
        "plt.ylabel(\"Salary\")\n",
        "plt.show()"
      ]
    },
    {
      "cell_type": "code",
      "execution_count": null,
      "id": "afd4b02c",
      "metadata": {
        "execution": {
          "iopub.execute_input": "2023-06-05T05:06:48.261469Z",
          "iopub.status.busy": "2023-06-05T05:06:48.261074Z",
          "iopub.status.idle": "2023-06-05T05:06:48.269697Z",
          "shell.execute_reply": "2023-06-05T05:06:48.268207Z"
        },
        "papermill": {
          "duration": 0.017794,
          "end_time": "2023-06-05T05:06:48.271784",
          "exception": false,
          "start_time": "2023-06-05T05:06:48.253990",
          "status": "completed"
        },
        "tags": [],
        "colab": {
          "base_uri": "https://localhost:8080/"
        },
        "id": "afd4b02c",
        "outputId": "2a0115b7-e917-41bf-c9da-eb98d5a1abc4"
      },
      "outputs": [
        {
          "output_type": "stream",
          "name": "stdout",
          "text": [
            "Mean absolute error (MAE): 5215.553722712969\n",
            "Mean square error (MSE): 40884620.50478402\n",
            "R-squared value of predictions: 0.9180980074804029\n"
          ]
        }
      ],
      "source": [
        "print(\"Mean absolute error (MAE):\", metrics.mean_absolute_error(y_test,y_pred))\n",
        "print(\"Mean square error (MSE):\", metrics.mean_squared_error(y_test,y_pred))\n",
        "print(\"R-squared value of predictions:\",metrics.r2_score(y_test,y_pred))"
      ]
    },
    {
      "cell_type": "code",
      "execution_count": null,
      "id": "3c65552b",
      "metadata": {
        "execution": {
          "iopub.execute_input": "2023-06-05T05:06:48.285932Z",
          "iopub.status.busy": "2023-06-05T05:06:48.285556Z",
          "iopub.status.idle": "2023-06-05T05:06:48.296723Z",
          "shell.execute_reply": "2023-06-05T05:06:48.296039Z"
        },
        "papermill": {
          "duration": 0.020908,
          "end_time": "2023-06-05T05:06:48.298675",
          "exception": false,
          "start_time": "2023-06-05T05:06:48.277767",
          "status": "completed"
        },
        "tags": [],
        "colab": {
          "base_uri": "https://localhost:8080/",
          "height": 300
        },
        "id": "3c65552b",
        "outputId": "6e1f1a05-6394-4374-919a-ba836909704b"
      },
      "outputs": [
        {
          "output_type": "execute_result",
          "data": {
            "text/plain": [
              "     Actual      Predicted\n",
              "0   83088.0   74978.618520\n",
              "1   98273.0   91649.441736\n",
              "2   63218.0   62012.422686\n",
              "3   93940.0   81461.716437\n",
              "4   61111.0   67569.363758\n",
              "5   91738.0   88870.971200\n",
              "6  116969.0  113877.206023\n",
              "7   43525.0   44415.442625"
            ],
            "text/html": [
              "\n",
              "  <div id=\"df-a933a948-ab89-4326-b1d8-e266fe2f39bc\">\n",
              "    <div class=\"colab-df-container\">\n",
              "      <div>\n",
              "<style scoped>\n",
              "    .dataframe tbody tr th:only-of-type {\n",
              "        vertical-align: middle;\n",
              "    }\n",
              "\n",
              "    .dataframe tbody tr th {\n",
              "        vertical-align: top;\n",
              "    }\n",
              "\n",
              "    .dataframe thead th {\n",
              "        text-align: right;\n",
              "    }\n",
              "</style>\n",
              "<table border=\"1\" class=\"dataframe\">\n",
              "  <thead>\n",
              "    <tr style=\"text-align: right;\">\n",
              "      <th></th>\n",
              "      <th>Actual</th>\n",
              "      <th>Predicted</th>\n",
              "    </tr>\n",
              "  </thead>\n",
              "  <tbody>\n",
              "    <tr>\n",
              "      <th>0</th>\n",
              "      <td>83088.0</td>\n",
              "      <td>74978.618520</td>\n",
              "    </tr>\n",
              "    <tr>\n",
              "      <th>1</th>\n",
              "      <td>98273.0</td>\n",
              "      <td>91649.441736</td>\n",
              "    </tr>\n",
              "    <tr>\n",
              "      <th>2</th>\n",
              "      <td>63218.0</td>\n",
              "      <td>62012.422686</td>\n",
              "    </tr>\n",
              "    <tr>\n",
              "      <th>3</th>\n",
              "      <td>93940.0</td>\n",
              "      <td>81461.716437</td>\n",
              "    </tr>\n",
              "    <tr>\n",
              "      <th>4</th>\n",
              "      <td>61111.0</td>\n",
              "      <td>67569.363758</td>\n",
              "    </tr>\n",
              "    <tr>\n",
              "      <th>5</th>\n",
              "      <td>91738.0</td>\n",
              "      <td>88870.971200</td>\n",
              "    </tr>\n",
              "    <tr>\n",
              "      <th>6</th>\n",
              "      <td>116969.0</td>\n",
              "      <td>113877.206023</td>\n",
              "    </tr>\n",
              "    <tr>\n",
              "      <th>7</th>\n",
              "      <td>43525.0</td>\n",
              "      <td>44415.442625</td>\n",
              "    </tr>\n",
              "  </tbody>\n",
              "</table>\n",
              "</div>\n",
              "      <button class=\"colab-df-convert\" onclick=\"convertToInteractive('df-a933a948-ab89-4326-b1d8-e266fe2f39bc')\"\n",
              "              title=\"Convert this dataframe to an interactive table.\"\n",
              "              style=\"display:none;\">\n",
              "        \n",
              "  <svg xmlns=\"http://www.w3.org/2000/svg\" height=\"24px\"viewBox=\"0 0 24 24\"\n",
              "       width=\"24px\">\n",
              "    <path d=\"M0 0h24v24H0V0z\" fill=\"none\"/>\n",
              "    <path d=\"M18.56 5.44l.94 2.06.94-2.06 2.06-.94-2.06-.94-.94-2.06-.94 2.06-2.06.94zm-11 1L8.5 8.5l.94-2.06 2.06-.94-2.06-.94L8.5 2.5l-.94 2.06-2.06.94zm10 10l.94 2.06.94-2.06 2.06-.94-2.06-.94-.94-2.06-.94 2.06-2.06.94z\"/><path d=\"M17.41 7.96l-1.37-1.37c-.4-.4-.92-.59-1.43-.59-.52 0-1.04.2-1.43.59L10.3 9.45l-7.72 7.72c-.78.78-.78 2.05 0 2.83L4 21.41c.39.39.9.59 1.41.59.51 0 1.02-.2 1.41-.59l7.78-7.78 2.81-2.81c.8-.78.8-2.07 0-2.86zM5.41 20L4 18.59l7.72-7.72 1.47 1.35L5.41 20z\"/>\n",
              "  </svg>\n",
              "      </button>\n",
              "      \n",
              "  <style>\n",
              "    .colab-df-container {\n",
              "      display:flex;\n",
              "      flex-wrap:wrap;\n",
              "      gap: 12px;\n",
              "    }\n",
              "\n",
              "    .colab-df-convert {\n",
              "      background-color: #E8F0FE;\n",
              "      border: none;\n",
              "      border-radius: 50%;\n",
              "      cursor: pointer;\n",
              "      display: none;\n",
              "      fill: #1967D2;\n",
              "      height: 32px;\n",
              "      padding: 0 0 0 0;\n",
              "      width: 32px;\n",
              "    }\n",
              "\n",
              "    .colab-df-convert:hover {\n",
              "      background-color: #E2EBFA;\n",
              "      box-shadow: 0px 1px 2px rgba(60, 64, 67, 0.3), 0px 1px 3px 1px rgba(60, 64, 67, 0.15);\n",
              "      fill: #174EA6;\n",
              "    }\n",
              "\n",
              "    [theme=dark] .colab-df-convert {\n",
              "      background-color: #3B4455;\n",
              "      fill: #D2E3FC;\n",
              "    }\n",
              "\n",
              "    [theme=dark] .colab-df-convert:hover {\n",
              "      background-color: #434B5C;\n",
              "      box-shadow: 0px 1px 3px 1px rgba(0, 0, 0, 0.15);\n",
              "      filter: drop-shadow(0px 1px 2px rgba(0, 0, 0, 0.3));\n",
              "      fill: #FFFFFF;\n",
              "    }\n",
              "  </style>\n",
              "\n",
              "      <script>\n",
              "        const buttonEl =\n",
              "          document.querySelector('#df-a933a948-ab89-4326-b1d8-e266fe2f39bc button.colab-df-convert');\n",
              "        buttonEl.style.display =\n",
              "          google.colab.kernel.accessAllowed ? 'block' : 'none';\n",
              "\n",
              "        async function convertToInteractive(key) {\n",
              "          const element = document.querySelector('#df-a933a948-ab89-4326-b1d8-e266fe2f39bc');\n",
              "          const dataTable =\n",
              "            await google.colab.kernel.invokeFunction('convertToInteractive',\n",
              "                                                     [key], {});\n",
              "          if (!dataTable) return;\n",
              "\n",
              "          const docLinkHtml = 'Like what you see? Visit the ' +\n",
              "            '<a target=\"_blank\" href=https://colab.research.google.com/notebooks/data_table.ipynb>data table notebook</a>'\n",
              "            + ' to learn more about interactive tables.';\n",
              "          element.innerHTML = '';\n",
              "          dataTable['output_type'] = 'display_data';\n",
              "          await google.colab.output.renderOutput(dataTable, element);\n",
              "          const docLink = document.createElement('div');\n",
              "          docLink.innerHTML = docLinkHtml;\n",
              "          element.appendChild(docLink);\n",
              "        }\n",
              "      </script>\n",
              "    </div>\n",
              "  </div>\n",
              "  "
            ]
          },
          "metadata": {},
          "execution_count": 16
        }
      ],
      "source": [
        "df_check = pd.DataFrame({'Actual': y_test[:10].values, 'Predicted': y_pred[:10].ravel()})\n",
        "df_check"
      ]
    },
    {
      "cell_type": "code",
      "execution_count": null,
      "id": "6ea37504",
      "metadata": {
        "execution": {
          "iopub.execute_input": "2023-06-05T05:06:48.314047Z",
          "iopub.status.busy": "2023-06-05T05:06:48.313670Z",
          "iopub.status.idle": "2023-06-05T05:06:48.655041Z",
          "shell.execute_reply": "2023-06-05T05:06:48.654149Z"
        },
        "papermill": {
          "duration": 0.352017,
          "end_time": "2023-06-05T05:06:48.657026",
          "exception": false,
          "start_time": "2023-06-05T05:06:48.305009",
          "status": "completed"
        },
        "tags": [],
        "colab": {
          "base_uri": "https://localhost:8080/",
          "height": 547
        },
        "id": "6ea37504",
        "outputId": "06d1d177-f0c0-4373-e1ef-988c86a77365"
      },
      "outputs": [
        {
          "output_type": "execute_result",
          "data": {
            "text/plain": [
              "Text(9.444444444444445, 0.5, 'count')"
            ]
          },
          "metadata": {},
          "execution_count": 17
        },
        {
          "output_type": "display_data",
          "data": {
            "text/plain": [
              "<Figure size 500x500 with 1 Axes>"
            ],
            "image/png": "[encoded data removed]"
          },
          "metadata": {}
        }
      ],
      "source": [
        "import seaborn as sns\n",
        "resids = np.subtract(y_test, y_pred)\n",
        "\n",
        "sns.displot(resids, kde = True)\n",
        "plt.title('Histogram of residuals')\n",
        "plt.xlabel('Residual value')\n",
        "plt.ylabel('count')"
      ]
    }
  ],
  "metadata": {
    "kernelspec": {
      "display_name": "Python 3",
      "language": "python",
      "name": "python3"
    },
    "language_info": {
      "codemirror_mode": {
        "name": "ipython",
        "version": 3
      },
      "file_extension": ".py",
      "mimetype": "text/x-python",
      "name": "python",
      "nbconvert_exporter": "python",
      "pygments_lexer": "ipython3",
      "version": "3.10.10"
    },
    "papermill": {
      "default_parameters": {},
      "duration": 14.413889,
      "end_time": "2023-06-05T05:06:49.586829",
      "environment_variables": {},
      "exception": null,
      "input_path": "__notebook__.ipynb",
      "output_path": "__notebook__.ipynb",
      "parameters": {},
      "start_time": "2023-06-05T05:06:35.172940",
      "version": "2.4.0"
    },
    "colab": {
      "provenance": []
    }
  },
  "nbformat": 4,
  "nbformat_minor": 5
}